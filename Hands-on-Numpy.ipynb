{
 "cells": [
  {
   "cell_type": "code",
   "execution_count": 1,
   "id": "16613396",
   "metadata": {},
   "outputs": [],
   "source": [
    "w1, w2, w3 = 0.3, 0.2, 0.5"
   ]
  },
  {
   "cell_type": "code",
   "execution_count": 2,
   "id": "dfb2a769",
   "metadata": {},
   "outputs": [],
   "source": [
    "kanto_temp = 73\n",
    "kanto_rainfall = 67\n",
    "kanto_humidity = 43"
   ]
  },
  {
   "cell_type": "code",
   "execution_count": 3,
   "id": "4c1020ec",
   "metadata": {},
   "outputs": [],
   "source": [
    "# Linear relation of the Yield of Crops with respect to Temperature, Rainfall and Humidity of a Particular Region.\n",
    "kanto_yield_apples = kanto_temp * w1 + kanto_rainfall * w2 + kanto_humidity * w3"
   ]
  },
  {
   "cell_type": "code",
   "execution_count": 4,
   "id": "2a22851a",
   "metadata": {},
   "outputs": [
    {
     "name": "stdout",
     "output_type": "stream",
     "text": [
      "56.8\n"
     ]
    }
   ],
   "source": [
    "print(kanto_yield_apples)"
   ]
  },
  {
   "cell_type": "code",
   "execution_count": 5,
   "id": "335312dd",
   "metadata": {},
   "outputs": [
    {
     "name": "stdout",
     "output_type": "stream",
     "text": [
      "The expected yield of apple in the Kanto Region is 56.8 tons per hectare\n"
     ]
    }
   ],
   "source": [
    "print(f\"The expected yield of apple in the Kanto Region is {kanto_yield_apples} tons per hectare\")"
   ]
  },
  {
   "cell_type": "code",
   "execution_count": 6,
   "id": "47215e3c",
   "metadata": {},
   "outputs": [],
   "source": [
    "kanto = [73, 67, 43]\n",
    "johto = [91, 88, 64]\n",
    "hoenn = [87, 134, 58]\n",
    "sinnoh = [102, 43, 37]\n",
    "unova = [69, 96, 70]"
   ]
  },
  {
   "cell_type": "code",
   "execution_count": 7,
   "id": "5016f300",
   "metadata": {},
   "outputs": [],
   "source": [
    "weights = [w1, w2, w3]"
   ]
  },
  {
   "cell_type": "code",
   "execution_count": 8,
   "id": "64417ab7",
   "metadata": {},
   "outputs": [],
   "source": [
    "def crop_yield(region, weight):\n",
    "    result = 0\n",
    "    for w, x in zip(weight, region):\n",
    "        result += x * w\n",
    "    return result"
   ]
  },
  {
   "cell_type": "code",
   "execution_count": 9,
   "id": "c494debc",
   "metadata": {},
   "outputs": [
    {
     "data": {
      "text/plain": [
       "56.8"
      ]
     },
     "execution_count": 9,
     "metadata": {},
     "output_type": "execute_result"
    }
   ],
   "source": [
    "crop_yield(kanto, weights)"
   ]
  },
  {
   "cell_type": "code",
   "execution_count": 10,
   "id": "826f4163",
   "metadata": {},
   "outputs": [
    {
     "data": {
      "text/plain": [
       "76.9"
      ]
     },
     "execution_count": 10,
     "metadata": {},
     "output_type": "execute_result"
    }
   ],
   "source": [
    "crop_yield(johto, weights)"
   ]
  },
  {
   "cell_type": "code",
   "execution_count": 11,
   "id": "7d14f699",
   "metadata": {},
   "outputs": [
    {
     "data": {
      "text/plain": [
       "81.9"
      ]
     },
     "execution_count": 11,
     "metadata": {},
     "output_type": "execute_result"
    }
   ],
   "source": [
    "crop_yield(hoenn, weights)"
   ]
  },
  {
   "cell_type": "markdown",
   "id": "5b2b9de9",
   "metadata": {},
   "source": [
    "<h1>Operations On Numpy</h1>"
   ]
  },
  {
   "cell_type": "code",
   "execution_count": 12,
   "id": "ab19bfd2",
   "metadata": {},
   "outputs": [],
   "source": [
    "import numpy as np"
   ]
  },
  {
   "cell_type": "code",
   "execution_count": 13,
   "id": "c6415809",
   "metadata": {},
   "outputs": [],
   "source": [
    "kanto = np.array([73, 67, 43])"
   ]
  },
  {
   "cell_type": "code",
   "execution_count": 14,
   "id": "115eef6c",
   "metadata": {},
   "outputs": [],
   "source": [
    "weights = np.array([w1, w2, w3])"
   ]
  },
  {
   "cell_type": "code",
   "execution_count": 15,
   "id": "b1f520ad",
   "metadata": {},
   "outputs": [
    {
     "data": {
      "text/plain": [
       "array([73, 67, 43])"
      ]
     },
     "execution_count": 15,
     "metadata": {},
     "output_type": "execute_result"
    }
   ],
   "source": [
    "kanto"
   ]
  },
  {
   "cell_type": "code",
   "execution_count": 43,
   "id": "46e12bb0",
   "metadata": {},
   "outputs": [
    {
     "data": {
      "text/plain": [
       "numpy.ndarray"
      ]
     },
     "execution_count": 43,
     "metadata": {},
     "output_type": "execute_result"
    }
   ],
   "source": [
    "weights"
   ]
  },
  {
   "cell_type": "markdown",
   "id": "14c65156",
   "metadata": {},
   "source": [
    "<h3>Numpy has the same behaviour as list when it comes to Indexing.</h3>"
   ]
  },
  {
   "cell_type": "code",
   "execution_count": 17,
   "id": "cbcf0dd1",
   "metadata": {},
   "outputs": [
    {
     "data": {
      "text/plain": [
       "0.3"
      ]
     },
     "execution_count": 17,
     "metadata": {},
     "output_type": "execute_result"
    }
   ],
   "source": [
    "weights[0]"
   ]
  },
  {
   "cell_type": "code",
   "execution_count": 18,
   "id": "94c3b60c",
   "metadata": {},
   "outputs": [
    {
     "data": {
      "text/plain": [
       "0.2"
      ]
     },
     "execution_count": 18,
     "metadata": {},
     "output_type": "execute_result"
    }
   ],
   "source": [
    "weights[1]"
   ]
  },
  {
   "cell_type": "code",
   "execution_count": 19,
   "id": "0005dabd",
   "metadata": {},
   "outputs": [
    {
     "data": {
      "text/plain": [
       "43"
      ]
     },
     "execution_count": 19,
     "metadata": {},
     "output_type": "execute_result"
    }
   ],
   "source": [
    "kanto[2]"
   ]
  },
  {
   "cell_type": "code",
   "execution_count": 20,
   "id": "d1966530",
   "metadata": {},
   "outputs": [
    {
     "data": {
      "text/plain": [
       "numpy.ndarray"
      ]
     },
     "execution_count": 20,
     "metadata": {},
     "output_type": "execute_result"
    }
   ],
   "source": [
    "type(kanto)"
   ]
  },
  {
   "cell_type": "code",
   "execution_count": 21,
   "id": "e85286e3",
   "metadata": {},
   "outputs": [
    {
     "data": {
      "text/plain": [
       "numpy.ndarray"
      ]
     },
     "execution_count": 21,
     "metadata": {},
     "output_type": "execute_result"
    }
   ],
   "source": [
    "type(weights)"
   ]
  },
  {
   "cell_type": "markdown",
   "id": "f64cbc73",
   "metadata": {},
   "source": [
    "<h3>help(np.dot) will give the Documentation of the dot function in the Numpy Library.</h3>"
   ]
  },
  {
   "cell_type": "code",
   "execution_count": 22,
   "id": "8fa4c2f7",
   "metadata": {
    "collapsed": true
   },
   "outputs": [
    {
     "name": "stdout",
     "output_type": "stream",
     "text": [
      "Help on function dot in module numpy:\n",
      "\n",
      "dot(...)\n",
      "    dot(a, b, out=None)\n",
      "    \n",
      "    Dot product of two arrays. Specifically,\n",
      "    \n",
      "    - If both `a` and `b` are 1-D arrays, it is inner product of vectors\n",
      "      (without complex conjugation).\n",
      "    \n",
      "    - If both `a` and `b` are 2-D arrays, it is matrix multiplication,\n",
      "      but using :func:`matmul` or ``a @ b`` is preferred.\n",
      "    \n",
      "    - If either `a` or `b` is 0-D (scalar), it is equivalent to\n",
      "      :func:`multiply` and using ``numpy.multiply(a, b)`` or ``a * b`` is\n",
      "      preferred.\n",
      "    \n",
      "    - If `a` is an N-D array and `b` is a 1-D array, it is a sum product over\n",
      "      the last axis of `a` and `b`.\n",
      "    \n",
      "    - If `a` is an N-D array and `b` is an M-D array (where ``M>=2``), it is a\n",
      "      sum product over the last axis of `a` and the second-to-last axis of\n",
      "      `b`::\n",
      "    \n",
      "        dot(a, b)[i,j,k,m] = sum(a[i,j,:] * b[k,:,m])\n",
      "    \n",
      "    It uses an optimized BLAS library when possible (see `numpy.linalg`).\n",
      "    \n",
      "    Parameters\n",
      "    ----------\n",
      "    a : array_like\n",
      "        First argument.\n",
      "    b : array_like\n",
      "        Second argument.\n",
      "    out : ndarray, optional\n",
      "        Output argument. This must have the exact kind that would be returned\n",
      "        if it was not used. In particular, it must have the right type, must be\n",
      "        C-contiguous, and its dtype must be the dtype that would be returned\n",
      "        for `dot(a,b)`. This is a performance feature. Therefore, if these\n",
      "        conditions are not met, an exception is raised, instead of attempting\n",
      "        to be flexible.\n",
      "    \n",
      "    Returns\n",
      "    -------\n",
      "    output : ndarray\n",
      "        Returns the dot product of `a` and `b`.  If `a` and `b` are both\n",
      "        scalars or both 1-D arrays then a scalar is returned; otherwise\n",
      "        an array is returned.\n",
      "        If `out` is given, then it is returned.\n",
      "    \n",
      "    Raises\n",
      "    ------\n",
      "    ValueError\n",
      "        If the last dimension of `a` is not the same size as\n",
      "        the second-to-last dimension of `b`.\n",
      "    \n",
      "    See Also\n",
      "    --------\n",
      "    vdot : Complex-conjugating dot product.\n",
      "    tensordot : Sum products over arbitrary axes.\n",
      "    einsum : Einstein summation convention.\n",
      "    matmul : '@' operator as method with out parameter.\n",
      "    linalg.multi_dot : Chained dot product.\n",
      "    \n",
      "    Examples\n",
      "    --------\n",
      "    >>> np.dot(3, 4)\n",
      "    12\n",
      "    \n",
      "    Neither argument is complex-conjugated:\n",
      "    \n",
      "    >>> np.dot([2j, 3j], [2j, 3j])\n",
      "    (-13+0j)\n",
      "    \n",
      "    For 2-D arrays it is the matrix product:\n",
      "    \n",
      "    >>> a = [[1, 0], [0, 1]]\n",
      "    >>> b = [[4, 1], [2, 2]]\n",
      "    >>> np.dot(a, b)\n",
      "    array([[4, 1],\n",
      "           [2, 2]])\n",
      "    \n",
      "    >>> a = np.arange(3*4*5*6).reshape((3,4,5,6))\n",
      "    >>> b = np.arange(3*4*5*6)[::-1].reshape((5,4,6,3))\n",
      "    >>> np.dot(a, b)[2,3,2,1,2,2]\n",
      "    499128\n",
      "    >>> sum(a[2,3,2,:] * b[1,2,:,2])\n",
      "    499128\n",
      "\n"
     ]
    }
   ],
   "source": [
    "help(np.dot)"
   ]
  },
  {
   "cell_type": "markdown",
   "id": "80e51982",
   "metadata": {},
   "source": [
    "<h3>2-D Array Example using np.dot() Function</h3>"
   ]
  },
  {
   "cell_type": "code",
   "execution_count": 23,
   "id": "61d60192",
   "metadata": {},
   "outputs": [],
   "source": [
    "a = [[1, 0], [0, 1]]"
   ]
  },
  {
   "cell_type": "code",
   "execution_count": 24,
   "id": "4d9b627d",
   "metadata": {},
   "outputs": [],
   "source": [
    "b = [[4, 1], [2, 2]]"
   ]
  },
  {
   "cell_type": "code",
   "execution_count": 25,
   "id": "7b76ca11",
   "metadata": {
    "scrolled": true
   },
   "outputs": [
    {
     "data": {
      "text/plain": [
       "array([[4, 1],\n",
       "       [2, 2]])"
      ]
     },
     "execution_count": 25,
     "metadata": {},
     "output_type": "execute_result"
    }
   ],
   "source": [
    "np.dot(a, b)"
   ]
  },
  {
   "cell_type": "markdown",
   "id": "4a7ace36",
   "metadata": {},
   "source": [
    "np.dot() Function"
   ]
  },
  {
   "cell_type": "code",
   "execution_count": 26,
   "id": "1822f0ac",
   "metadata": {},
   "outputs": [
    {
     "data": {
      "text/plain": [
       "56.8"
      ]
     },
     "execution_count": 26,
     "metadata": {},
     "output_type": "execute_result"
    }
   ],
   "source": [
    "np.dot(kanto, weights)"
   ]
  },
  {
   "cell_type": "markdown",
   "id": "b246311e",
   "metadata": {},
   "source": [
    "np.sum()"
   ]
  },
  {
   "cell_type": "code",
   "execution_count": 27,
   "id": "9c30675c",
   "metadata": {},
   "outputs": [
    {
     "data": {
      "text/plain": [
       "array([73, 67, 43])"
      ]
     },
     "execution_count": 27,
     "metadata": {},
     "output_type": "execute_result"
    }
   ],
   "source": [
    "kanto"
   ]
  },
  {
   "cell_type": "code",
   "execution_count": 28,
   "id": "d19bd52d",
   "metadata": {},
   "outputs": [
    {
     "data": {
      "text/plain": [
       "array([0.3, 0.2, 0.5])"
      ]
     },
     "execution_count": 28,
     "metadata": {},
     "output_type": "execute_result"
    }
   ],
   "source": [
    "weights"
   ]
  },
  {
   "cell_type": "code",
   "execution_count": 29,
   "id": "da4046cd",
   "metadata": {},
   "outputs": [
    {
     "data": {
      "text/plain": [
       "array([21.9, 13.4, 21.5])"
      ]
     },
     "execution_count": 29,
     "metadata": {},
     "output_type": "execute_result"
    }
   ],
   "source": [
    "kanto * weights"
   ]
  },
  {
   "cell_type": "code",
   "execution_count": 30,
   "id": "3ff1f6de",
   "metadata": {},
   "outputs": [
    {
     "data": {
      "text/plain": [
       "56.8"
      ]
     },
     "execution_count": 30,
     "metadata": {},
     "output_type": "execute_result"
    }
   ],
   "source": [
    "(kanto * weights).sum()"
   ]
  },
  {
   "cell_type": "code",
   "execution_count": 31,
   "id": "ce0893c6",
   "metadata": {},
   "outputs": [],
   "source": [
    "# Python lists\n",
    "arr1 = list(range(1000000))\n",
    "arr2 = list(range(1000000, 2000000))\n",
    "\n",
    "# Numpy arrays\n",
    "arr1_np = np.array(arr1)\n",
    "arr2_np = np.array(arr2)"
   ]
  },
  {
   "cell_type": "code",
   "execution_count": 32,
   "id": "aaf6d837",
   "metadata": {},
   "outputs": [
    {
     "name": "stdout",
     "output_type": "stream",
     "text": [
      "CPU times: total: 15.6 ms\n",
      "Wall time: 97.9 ms\n"
     ]
    },
    {
     "data": {
      "text/plain": [
       "833332333333500000"
      ]
     },
     "execution_count": 32,
     "metadata": {},
     "output_type": "execute_result"
    }
   ],
   "source": [
    "%%time\n",
    "result = 0\n",
    "for x1, x2 in zip(arr1, arr2):\n",
    "    result += x1 * x2\n",
    "result"
   ]
  },
  {
   "cell_type": "code",
   "execution_count": 33,
   "id": "9e8fda6a",
   "metadata": {},
   "outputs": [
    {
     "name": "stdout",
     "output_type": "stream",
     "text": [
      "CPU times: total: 0 ns\n",
      "Wall time: 0 ns\n"
     ]
    },
    {
     "data": {
      "text/plain": [
       "-1942957984"
      ]
     },
     "execution_count": 33,
     "metadata": {},
     "output_type": "execute_result"
    }
   ],
   "source": [
    "%%time\n",
    "np.dot(arr1_np, arr2_np)"
   ]
  },
  {
   "cell_type": "markdown",
   "id": "4a4ba451",
   "metadata": {},
   "source": [
    "Multidimensional Array"
   ]
  },
  {
   "cell_type": "code",
   "execution_count": 34,
   "id": "e1b4eb5d",
   "metadata": {},
   "outputs": [],
   "source": [
    "climate_data = np.array([[73, 67, 43],\n",
    "                       [91, 88, 64],\n",
    "                       [87, 134, 58],\n",
    "                       [102, 43, 37],\n",
    "                       [69, 96, 70]])"
   ]
  },
  {
   "cell_type": "code",
   "execution_count": 35,
   "id": "80a1234c",
   "metadata": {
    "scrolled": true
   },
   "outputs": [
    {
     "data": {
      "text/plain": [
       "numpy.ndarray"
      ]
     },
     "execution_count": 35,
     "metadata": {},
     "output_type": "execute_result"
    }
   ],
   "source": [
    "type(climate_data)"
   ]
  },
  {
   "cell_type": "code",
   "execution_count": 42,
   "id": "30c992e0",
   "metadata": {},
   "outputs": [
    {
     "data": {
      "text/plain": [
       "dtype('int32')"
      ]
     },
     "execution_count": 42,
     "metadata": {},
     "output_type": "execute_result"
    }
   ],
   "source": [
    "# 2D Array\n",
    "climate_data.dtype"
   ]
  },
  {
   "cell_type": "code",
   "execution_count": 37,
   "id": "c09b69ad",
   "metadata": {},
   "outputs": [
    {
     "data": {
      "text/plain": [
       "array([0.3, 0.2, 0.5])"
      ]
     },
     "execution_count": 37,
     "metadata": {},
     "output_type": "execute_result"
    }
   ],
   "source": [
    "weights"
   ]
  },
  {
   "cell_type": "code",
   "execution_count": 38,
   "id": "980df196",
   "metadata": {},
   "outputs": [
    {
     "data": {
      "text/plain": [
       "(3,)"
      ]
     },
     "execution_count": 38,
     "metadata": {},
     "output_type": "execute_result"
    }
   ],
   "source": [
    "weights.shape"
   ]
  },
  {
   "cell_type": "code",
   "execution_count": 39,
   "id": "e5c24926",
   "metadata": {
    "scrolled": true
   },
   "outputs": [
    {
     "ename": "ValueError",
     "evalue": "setting an array element with a sequence. The requested array has an inhomogeneous shape after 2 dimensions. The detected shape was (2, 2) + inhomogeneous part.",
     "output_type": "error",
     "traceback": [
      "\u001b[1;31m---------------------------------------------------------------------------\u001b[0m",
      "\u001b[1;31mValueError\u001b[0m                                Traceback (most recent call last)",
      "Cell \u001b[1;32mIn[39], line 2\u001b[0m\n\u001b[0;32m      1\u001b[0m \u001b[38;5;66;03m# 3D Array\u001b[39;00m\n\u001b[1;32m----> 2\u001b[0m arr3 \u001b[38;5;241m=\u001b[39m np\u001b[38;5;241m.\u001b[39marray([\n\u001b[0;32m      3\u001b[0m     [[\u001b[38;5;241m11\u001b[39m, \u001b[38;5;241m12\u001b[39m, \u001b[38;5;241m13\u001b[39m], \n\u001b[0;32m      4\u001b[0m      [\u001b[38;5;241m14\u001b[39m, \u001b[38;5;241m15\u001b[39m, \u001b[38;5;241m16\u001b[39m, \u001b[38;5;241m14\u001b[39m]], \n\u001b[0;32m      5\u001b[0m     \n\u001b[0;32m      6\u001b[0m     [[\u001b[38;5;241m15\u001b[39m, \u001b[38;5;241m16\u001b[39m, \u001b[38;5;241m17\u001b[39m], \n\u001b[0;32m      7\u001b[0m      [\u001b[38;5;241m18\u001b[39m, \u001b[38;5;241m19\u001b[39m, \u001b[38;5;241m20\u001b[39m]]\n\u001b[0;32m      8\u001b[0m                     ])\n",
      "\u001b[1;31mValueError\u001b[0m: setting an array element with a sequence. The requested array has an inhomogeneous shape after 2 dimensions. The detected shape was (2, 2) + inhomogeneous part."
     ]
    }
   ],
   "source": [
    "# 3D Array\n",
    "arr3 = np.array([\n",
    "    [[11, 12, 13], \n",
    "     [14, 15, 16, 14]], \n",
    "    \n",
    "    [[15, 16, 17], \n",
    "     [18, 19, 20]]\n",
    "                    ])"
   ]
  },
  {
   "cell_type": "code",
   "execution_count": null,
   "id": "1b5d3f13",
   "metadata": {},
   "outputs": [],
   "source": [
    "arr3 = np.array([\n",
    "    [[11, 12, 13], \n",
    "     [14, 15, 16]], \n",
    "    \n",
    "    [[15, 16, 17], \n",
    "     [18, 19, 20]]\n",
    "                    ])"
   ]
  },
  {
   "cell_type": "code",
   "execution_count": null,
   "id": "ca0f1156",
   "metadata": {},
   "outputs": [],
   "source": [
    "arr3.shape"
   ]
  },
  {
   "cell_type": "code",
   "execution_count": null,
   "id": "fc3ecb17",
   "metadata": {},
   "outputs": [],
   "source": [
    "weights.dtype"
   ]
  },
  {
   "cell_type": "code",
   "execution_count": null,
   "id": "6b142798",
   "metadata": {},
   "outputs": [],
   "source": [
    "climate_data"
   ]
  },
  {
   "cell_type": "code",
   "execution_count": null,
   "id": "2a59faef",
   "metadata": {},
   "outputs": [],
   "source": [
    "climate_data.dtype"
   ]
  },
  {
   "cell_type": "code",
   "execution_count": null,
   "id": "7de4e590",
   "metadata": {},
   "outputs": [],
   "source": [
    "climate_data.shape"
   ]
  },
  {
   "cell_type": "code",
   "execution_count": null,
   "id": "70edc8f9",
   "metadata": {},
   "outputs": [],
   "source": [
    "arr3.dtype"
   ]
  },
  {
   "cell_type": "code",
   "execution_count": null,
   "id": "d694296f",
   "metadata": {},
   "outputs": [],
   "source": [
    "arr3 = np.array([\n",
    "    [[11, 12, 13], \n",
    "     [14, 15, 16]], \n",
    "    \n",
    "    [[15, 16, 17], \n",
    "     [18, 19, 18.4]]\n",
    "                    ])"
   ]
  },
  {
   "cell_type": "code",
   "execution_count": null,
   "id": "7d681aa4",
   "metadata": {},
   "outputs": [],
   "source": [
    "arr3.dtype"
   ]
  },
  {
   "cell_type": "code",
   "execution_count": null,
   "id": "ac42478c",
   "metadata": {},
   "outputs": [],
   "source": [
    "arr3"
   ]
  },
  {
   "cell_type": "code",
   "execution_count": null,
   "id": "ad2877da",
   "metadata": {},
   "outputs": [],
   "source": [
    "climate_data"
   ]
  },
  {
   "cell_type": "code",
   "execution_count": null,
   "id": "0e0c79b6",
   "metadata": {},
   "outputs": [],
   "source": [
    "# Performs Matrix Multiplication of the Matrices\n",
    "np.matmul(climate_data, weights)"
   ]
  },
  {
   "cell_type": "code",
   "execution_count": null,
   "id": "15ae8542",
   "metadata": {},
   "outputs": [],
   "source": [
    "# Alternative way for Matrix Multiplicaiton using '@' Symbol.\n",
    "climate_data @ weights"
   ]
  },
  {
   "cell_type": "markdown",
   "id": "30a7e01b",
   "metadata": {},
   "source": [
    "Using CSV files along with Numpy"
   ]
  },
  {
   "cell_type": "code",
   "execution_count": null,
   "id": "27c00ad5",
   "metadata": {},
   "outputs": [],
   "source": [
    "from urllib import request"
   ]
  },
  {
   "cell_type": "code",
   "execution_count": null,
   "id": "cbfbfd38",
   "metadata": {},
   "outputs": [],
   "source": [
    "# request.urlretrieve(\"link\", \"path\")"
   ]
  },
  {
   "cell_type": "code",
   "execution_count": null,
   "id": "df86b067",
   "metadata": {},
   "outputs": [],
   "source": [
    "request.urlretrieve(\n",
    " 'https://gist.github.com/BirajCoder/a4ffcb76fd6fb221d76ac2ee2b8584e9/raw/4054f90adfd361b7aa4255e99c2e874664094cea/climate.csv', \n",
    "    'climate.txt')"
   ]
  },
  {
   "cell_type": "code",
   "execution_count": null,
   "id": "f9e4240c",
   "metadata": {},
   "outputs": [],
   "source": [
    "help(np.genfromtxt)"
   ]
  },
  {
   "cell_type": "code",
   "execution_count": null,
   "id": "dae6e0e1",
   "metadata": {},
   "outputs": [],
   "source": [
    "climate_data = np.genfromtxt('climate.txt', delimiter = ',', skip_header = 1)"
   ]
  },
  {
   "cell_type": "code",
   "execution_count": null,
   "id": "12656631",
   "metadata": {},
   "outputs": [],
   "source": [
    "climate_data"
   ]
  },
  {
   "cell_type": "code",
   "execution_count": null,
   "id": "ce59b6de",
   "metadata": {},
   "outputs": [],
   "source": [
    "climate_data.shape"
   ]
  },
  {
   "cell_type": "code",
   "execution_count": null,
   "id": "1ad3c69a",
   "metadata": {},
   "outputs": [],
   "source": [
    " weights"
   ]
  },
  {
   "cell_type": "code",
   "execution_count": null,
   "id": "37d5bb4f",
   "metadata": {},
   "outputs": [],
   "source": [
    "yields = climate_data @ weights"
   ]
  },
  {
   "cell_type": "code",
   "execution_count": null,
   "id": "760e55bd",
   "metadata": {},
   "outputs": [],
   "source": [
    "yields"
   ]
  },
  {
   "cell_type": "code",
   "execution_count": null,
   "id": "a5864bf8",
   "metadata": {},
   "outputs": [],
   "source": [
    "yields.shape"
   ]
  },
  {
   "cell_type": "code",
   "execution_count": null,
   "id": "424d4254",
   "metadata": {},
   "outputs": [],
   "source": [
    "yields\n"
   ]
  },
  {
   "cell_type": "code",
   "execution_count": null,
   "id": "ea41c045",
   "metadata": {
    "scrolled": true
   },
   "outputs": [],
   "source": [
    "help(np.concatenate)"
   ]
  },
  {
   "cell_type": "code",
   "execution_count": null,
   "id": "b2860083",
   "metadata": {},
   "outputs": [],
   "source": [
    "help(np.reshape)"
   ]
  },
  {
   "cell_type": "code",
   "execution_count": null,
   "id": "ca944002",
   "metadata": {},
   "outputs": [],
   "source": [
    "climate_results = np.concatenate((climate_data, yields.reshape(10000, 1)), axis = 1)"
   ]
  },
  {
   "cell_type": "code",
   "execution_count": null,
   "id": "bd0a411a",
   "metadata": {},
   "outputs": [],
   "source": [
    "climate_results"
   ]
  },
  {
   "cell_type": "code",
   "execution_count": null,
   "id": "5a498877",
   "metadata": {},
   "outputs": [],
   "source": [
    "help(np.savetxt)"
   ]
  },
  {
   "cell_type": "code",
   "execution_count": null,
   "id": "8e2ff75e",
   "metadata": {},
   "outputs": [],
   "source": [
    "np.savetxt('climate_results.txt', \n",
    "           climate_results,\n",
    "           fmt='%.2f',\n",
    "           header='temperature,rainfall,humidity,yield_apples',\n",
    "           comments='')"
   ]
  },
  {
   "cell_type": "code",
   "execution_count": null,
   "id": "6901ab54",
   "metadata": {},
   "outputs": [],
   "source": [
    "# Upto this Part for Blog Post on Numpy"
   ]
  },
  {
   "cell_type": "markdown",
   "id": "d3612d18",
   "metadata": {},
   "source": [
    "<h1>Arithmetic Operations, Broadcasting, Comparison on Arrays</h1> "
   ]
  },
  {
   "cell_type": "code",
   "execution_count": null,
   "id": "f1ba6b1f",
   "metadata": {},
   "outputs": [],
   "source": [
    "arr2 = np.array([[1, 2, 3, 4], \n",
    "                 [5, 6, 7, 8], \n",
    "                 [9, 1, 2, 3]])"
   ]
  },
  {
   "cell_type": "code",
   "execution_count": null,
   "id": "de49f535",
   "metadata": {},
   "outputs": [],
   "source": [
    "arr3 = np.array([[11, 12, 13, 14], \n",
    "                 [15, 16, 17, 18], \n",
    "                 [19, 11, 12, 13]])"
   ]
  },
  {
   "cell_type": "code",
   "execution_count": null,
   "id": "16e58d45",
   "metadata": {},
   "outputs": [],
   "source": [
    "arr2 + arr3"
   ]
  },
  {
   "cell_type": "code",
   "execution_count": null,
   "id": "f9a19021",
   "metadata": {},
   "outputs": [],
   "source": [
    " # Additing a Scalar\n",
    "arr3 + 3"
   ]
  },
  {
   "cell_type": "code",
   "execution_count": null,
   "id": "48ae3efe",
   "metadata": {},
   "outputs": [],
   "source": [
    "arr2 - arr3"
   ]
  },
  {
   "cell_type": "code",
   "execution_count": null,
   "id": "0cb4ba23",
   "metadata": {},
   "outputs": [],
   "source": [
    "arr2 / 2"
   ]
  },
  {
   "cell_type": "code",
   "execution_count": null,
   "id": "e5cc44b5",
   "metadata": {},
   "outputs": [],
   "source": [
    "arr2 * arr3"
   ]
  },
  {
   "cell_type": "code",
   "execution_count": null,
   "id": "5105600b",
   "metadata": {},
   "outputs": [],
   "source": [
    "arr3 % 4"
   ]
  },
  {
   "cell_type": "code",
   "execution_count": null,
   "id": "90bf6f1e",
   "metadata": {},
   "outputs": [],
   "source": [
    "arr2 = np.array([[1, 2, 3, 4], \n",
    "                 [5, 6, 7, 8], \n",
    "                 [9, 1, 2, 3]])"
   ]
  },
  {
   "cell_type": "code",
   "execution_count": null,
   "id": "f9cfa017",
   "metadata": {},
   "outputs": [],
   "source": [
    "arr2.shape"
   ]
  },
  {
   "cell_type": "code",
   "execution_count": null,
   "id": "807c503a",
   "metadata": {},
   "outputs": [],
   "source": [
    "arr4 = np.array([4, 5, 6, 7])"
   ]
  },
  {
   "cell_type": "code",
   "execution_count": null,
   "id": "67741a32",
   "metadata": {},
   "outputs": [],
   "source": [
    "arr4.shape"
   ]
  },
  {
   "cell_type": "code",
   "execution_count": null,
   "id": "595b2b0a",
   "metadata": {},
   "outputs": [],
   "source": [
    "arr2 + arr4"
   ]
  },
  {
   "cell_type": "code",
   "execution_count": null,
   "id": "657b472a",
   "metadata": {},
   "outputs": [],
   "source": [
    "# Broadcasting in Numpy means what Numpy does is it replicates the array so in order to do the Arithmetic Operation"
   ]
  },
  {
   "cell_type": "code",
   "execution_count": null,
   "id": "c82ceb89",
   "metadata": {},
   "outputs": [],
   "source": [
    "arr4_replicated = np.array([[4, 5, 6, 7],\n",
    "                           [4, 5, 6, 7],\n",
    "                           [4, 5, 6, 7]])\n",
    "# So arr4 is Replicated like this and then the any Arithmetic Operation is performed on the Array"
   ]
  },
  {
   "cell_type": "code",
   "execution_count": null,
   "id": "cf60b2e9",
   "metadata": {},
   "outputs": [],
   "source": [
    "arr2 + arr4"
   ]
  },
  {
   "cell_type": "code",
   "execution_count": null,
   "id": "4871178a",
   "metadata": {},
   "outputs": [],
   "source": [
    "arr2 = np.array([[1, 2, 3, 4],\n",
    "                 [5, 6, 7, 8],\n",
    "                 [9, 10, 11, 12],\n",
    "                 [13, 14, 15, 16]])"
   ]
  },
  {
   "cell_type": "code",
   "execution_count": null,
   "id": "47fdb353",
   "metadata": {},
   "outputs": [],
   "source": [
    "arr2.shape"
   ]
  },
  {
   "cell_type": "code",
   "execution_count": null,
   "id": "fef174e3",
   "metadata": {},
   "outputs": [],
   "source": [
    "arr4 = np.array([[1, 2],\n",
    "                 [3, 4],\n",
    "                 [5, 6],\n",
    "                 [7, 8]])"
   ]
  },
  {
   "cell_type": "code",
   "execution_count": null,
   "id": "63220f42",
   "metadata": {},
   "outputs": [],
   "source": [
    "arr4.shape"
   ]
  },
  {
   "cell_type": "code",
   "execution_count": null,
   "id": "122dd6a1",
   "metadata": {},
   "outputs": [],
   "source": [
    "arr2 + arr4"
   ]
  },
  {
   "cell_type": "code",
   "execution_count": null,
   "id": "0d5361ec",
   "metadata": {},
   "outputs": [],
   "source": [
    "arr1 = np.array([[1, 2, 3], [3, 4, 5]])\n",
    "arr2 = np.array([[2, 2, 3], [1, 2, 5]])"
   ]
  },
  {
   "cell_type": "code",
   "execution_count": null,
   "id": "95c4e169",
   "metadata": {},
   "outputs": [],
   "source": [
    "arr1 == arr2"
   ]
  },
  {
   "cell_type": "code",
   "execution_count": null,
   "id": "a1eadac6",
   "metadata": {},
   "outputs": [],
   "source": [
    "(arr1 == arr2).dtype"
   ]
  },
  {
   "cell_type": "code",
   "execution_count": null,
   "id": "e5bf9441",
   "metadata": {},
   "outputs": [],
   "source": [
    "arr1 != arr2"
   ]
  },
  {
   "cell_type": "code",
   "execution_count": null,
   "id": "36669a3a",
   "metadata": {},
   "outputs": [],
   "source": [
    "arr1 < arr2"
   ]
  },
  {
   "cell_type": "code",
   "execution_count": null,
   "id": "dc8b87b4",
   "metadata": {},
   "outputs": [],
   "source": [
    "arr1 > arr2"
   ]
  },
  {
   "cell_type": "code",
   "execution_count": null,
   "id": "690211ba",
   "metadata": {},
   "outputs": [],
   "source": [
    "# Corresponding Elements are Compared using Comparison Operators"
   ]
  },
  {
   "cell_type": "code",
   "execution_count": null,
   "id": "914ac1ee",
   "metadata": {},
   "outputs": [],
   "source": [
    "(arr1 == arr2).sum()\n",
    "# Give out the Total Number of True comparion in Array1 and Array2."
   ]
  },
  {
   "cell_type": "markdown",
   "id": "f667e692",
   "metadata": {},
   "source": [
    "Array Indexing & Slicing \n"
   ]
  },
  {
   "cell_type": "code",
   "execution_count": null,
   "id": "e0f02105",
   "metadata": {},
   "outputs": [],
   "source": [
    "arr3 = np.array([\n",
    "    [[11, 12, 13, 14], \n",
    "     [13, 14, 15, 19]], \n",
    "    \n",
    "    [[15, 16, 17, 21], \n",
    "     [63, 92, 36, 18]], \n",
    "    \n",
    "    [[98, 32, 81, 23],      \n",
    "     [17, 18, 19.5, 43]]])"
   ]
  },
  {
   "cell_type": "code",
   "execution_count": 40,
   "id": "3139712a",
   "metadata": {},
   "outputs": [
    {
     "ename": "NameError",
     "evalue": "name 'arr3' is not defined",
     "output_type": "error",
     "traceback": [
      "\u001b[1;31m---------------------------------------------------------------------------\u001b[0m",
      "\u001b[1;31mNameError\u001b[0m                                 Traceback (most recent call last)",
      "Cell \u001b[1;32mIn[40], line 1\u001b[0m\n\u001b[1;32m----> 1\u001b[0m arr3\u001b[38;5;241m.\u001b[39mshape\n",
      "\u001b[1;31mNameError\u001b[0m: name 'arr3' is not defined"
     ]
    }
   ],
   "source": [
    "arr3.shape"
   ]
  },
  {
   "cell_type": "code",
   "execution_count": null,
   "id": "194c87b4",
   "metadata": {},
   "outputs": [],
   "source": [
    "# Single Element\n",
    "arr3[1, 1, 2]"
   ]
  },
  {
   "cell_type": "code",
   "execution_count": null,
   "id": "d4e0e1f4",
   "metadata": {},
   "outputs": [],
   "source": [
    "arr3[1, 1, 2].shape"
   ]
  },
  {
   "cell_type": "code",
   "execution_count": null,
   "id": "a6a0eefa",
   "metadata": {},
   "outputs": [],
   "source": [
    "arr3.dtype"
   ]
  },
  {
   "cell_type": "code",
   "execution_count": null,
   "id": "ece2d01e",
   "metadata": {},
   "outputs": [],
   "source": [
    "# Subarray using Ranges\n",
    "arr3[0:2, 0:1, 0:3] "
   ]
  },
  {
   "cell_type": "code",
   "execution_count": null,
   "id": "9af50ff3",
   "metadata": {},
   "outputs": [],
   "source": [
    "arr3[1]"
   ]
  },
  {
   "cell_type": "code",
   "execution_count": null,
   "id": "f11538a5",
   "metadata": {},
   "outputs": [],
   "source": [
    "arr3[:2, 1]"
   ]
  },
  {
   "cell_type": "code",
   "execution_count": null,
   "id": "5a735f56",
   "metadata": {},
   "outputs": [],
   "source": [
    "# Using too many indices - Error Example\n",
    "arr3[1,3,2,1]"
   ]
  },
  {
   "cell_type": "code",
   "execution_count": null,
   "id": "b3b2f6a4",
   "metadata": {},
   "outputs": [],
   "source": [
    "# 4x  + 3y = 20\n",
    "# -5x + 9y = 26"
   ]
  },
  {
   "cell_type": "code",
   "execution_count": null,
   "id": "54c85631",
   "metadata": {},
   "outputs": [],
   "source": [
    "eqn = np.array([[4, 3], \n",
    "                [-5, 9]])"
   ]
  },
  {
   "cell_type": "code",
   "execution_count": null,
   "id": "b2fe3b35",
   "metadata": {},
   "outputs": [],
   "source": [
    "eqn.dtype"
   ]
  },
  {
   "cell_type": "code",
   "execution_count": null,
   "id": "4dc52949",
   "metadata": {},
   "outputs": [],
   "source": [
    "eqn.shape"
   ]
  },
  {
   "cell_type": "code",
   "execution_count": null,
   "id": "2ecb7a54",
   "metadata": {},
   "outputs": [],
   "source": [
    "constants = np.array([20, 26])"
   ]
  },
  {
   "cell_type": "code",
   "execution_count": null,
   "id": "f2768c40",
   "metadata": {},
   "outputs": [],
   "source": [
    "constants.shape"
   ]
  },
  {
   "cell_type": "code",
   "execution_count": null,
   "id": "189bcfa1",
   "metadata": {},
   "outputs": [],
   "source": [
    "variables = np.array(['x', 'y'])"
   ]
  },
  {
   "cell_type": "code",
   "execution_count": null,
   "id": "d039e2e8",
   "metadata": {},
   "outputs": [],
   "source": [
    "variables.dtype"
   ]
  },
  {
   "cell_type": "code",
   "execution_count": null,
   "id": "f77dc3ff",
   "metadata": {},
   "outputs": [],
   "source": [
    "variables.shape"
   ]
  },
  {
   "cell_type": "code",
   "execution_count": null,
   "id": "ac243ac6",
   "metadata": {},
   "outputs": [],
   "source": [
    "# All Zeros\n",
    "np.zeros((3, 2))"
   ]
  },
  {
   "cell_type": "code",
   "execution_count": null,
   "id": "32ff2cf8",
   "metadata": {},
   "outputs": [],
   "source": [
    "# All Ones\n",
    "np.ones((2, 2, 3))"
   ]
  },
  {
   "cell_type": "code",
   "execution_count": null,
   "id": "baf783dc",
   "metadata": {},
   "outputs": [],
   "source": [
    "# Identity Matrix\n",
    "np.eye(3)"
   ]
  },
  {
   "cell_type": "code",
   "execution_count": null,
   "id": "56e7a44f",
   "metadata": {},
   "outputs": [],
   "source": [
    "# Random Vector - Rand function picks Uniform value from 0 to 1\n",
    "np.random.rand(5)"
   ]
  },
  {
   "cell_type": "code",
   "execution_count": null,
   "id": "32aedcd8",
   "metadata": {},
   "outputs": [],
   "source": [
    "# Random MAtrix - Randn Picks up the Value from the gaussian Distribution Value Range - (-2, 2)\n",
    "np.random.randn(2, 3)"
   ]
  },
  {
   "cell_type": "code",
   "execution_count": null,
   "id": "24099233",
   "metadata": {},
   "outputs": [],
   "source": [
    "help(np.random.rand)"
   ]
  },
  {
   "cell_type": "code",
   "execution_count": null,
   "id": "a2cc78e9",
   "metadata": {},
   "outputs": [],
   "source": [
    "np.full([2, 3], 42)"
   ]
  },
  {
   "cell_type": "code",
   "execution_count": null,
   "id": "6f2f7cd9",
   "metadata": {},
   "outputs": [],
   "source": [
    "# Range with start, end and step\n",
    "new_arr = np.arange(10, 90, 3)"
   ]
  },
  {
   "cell_type": "code",
   "execution_count": null,
   "id": "84a9a5ea",
   "metadata": {},
   "outputs": [],
   "source": [
    "new_arr.shape"
   ]
  },
  {
   "cell_type": "code",
   "execution_count": null,
   "id": "6a2c9752",
   "metadata": {},
   "outputs": [],
   "source": [
    "new_arr.reshape(3, 3, 3)"
   ]
  },
  {
   "cell_type": "code",
   "execution_count": null,
   "id": "ff0edd85",
   "metadata": {},
   "outputs": [],
   "source": [
    "help(np.reshape)"
   ]
  },
  {
   "cell_type": "code",
   "execution_count": null,
   "id": "644c592f",
   "metadata": {},
   "outputs": [],
   "source": [
    "# Equally Spaced Number in a Range\n",
    "np.linspace(3, 27, 9)"
   ]
  },
  {
   "cell_type": "code",
   "execution_count": null,
   "id": "fade1bbf",
   "metadata": {},
   "outputs": [],
   "source": [
    "new_arr.ndim"
   ]
  },
  {
   "cell_type": "code",
   "execution_count": 1,
   "id": "d9df0df9",
   "metadata": {},
   "outputs": [],
   "source": [
    "# Timestamp - 01:12:16"
   ]
  },
  {
   "cell_type": "code",
   "execution_count": 2,
   "id": "c17a3b04",
   "metadata": {},
   "outputs": [],
   "source": [
    "import os"
   ]
  },
  {
   "cell_type": "code",
   "execution_count": 4,
   "id": "602724a2",
   "metadata": {},
   "outputs": [
    {
     "data": {
      "text/plain": [
       "'C:\\\\Users\\\\pahir\\\\Numpy'"
      ]
     },
     "execution_count": 4,
     "metadata": {},
     "output_type": "execute_result"
    }
   ],
   "source": [
    "os.getcwd()"
   ]
  },
  {
   "cell_type": "code",
   "execution_count": 5,
   "id": "3f6cadf6",
   "metadata": {},
   "outputs": [
    {
     "data": {
      "text/plain": [
       "['.ipynb_checkpoints',\n",
       " 'climate.txt',\n",
       " 'climate_results.txt',\n",
       " 'data',\n",
       " 'Hands-on-Numpy.ipynb']"
      ]
     },
     "execution_count": 5,
     "metadata": {},
     "output_type": "execute_result"
    }
   ],
   "source": [
    "os.listdir(\".\")"
   ]
  },
  {
   "cell_type": "code",
   "execution_count": 9,
   "id": "08f32acb",
   "metadata": {},
   "outputs": [],
   "source": [
    "os.makedirs('./data', exist_ok=True)"
   ]
  },
  {
   "cell_type": "code",
   "execution_count": 11,
   "id": "7837110a",
   "metadata": {},
   "outputs": [
    {
     "data": {
      "text/plain": [
       "[]"
      ]
     },
     "execution_count": 11,
     "metadata": {},
     "output_type": "execute_result"
    }
   ],
   "source": [
    "os.listdir('./data')"
   ]
  },
  {
   "cell_type": "code",
   "execution_count": 12,
   "id": "0f806014",
   "metadata": {},
   "outputs": [],
   "source": [
    "from urllib.request import urlretrieve"
   ]
  },
  {
   "cell_type": "code",
   "execution_count": 13,
   "id": "a72141ec",
   "metadata": {},
   "outputs": [],
   "source": [
    "url1 = 'https://gist.githubusercontent.com/aakashns/257f6e6c8719c17d0e498ea287d1a386/raw/7def9ef4234ddf0bc82f855ad67dac8b971852ef/loans1.txt'\n",
    "url2 = 'https://gist.githubusercontent.com/aakashns/257f6e6c8719c17d0e498ea287d1a386/raw/7def9ef4234ddf0bc82f855ad67dac8b971852ef/loans2.txt'\n",
    "url3 = 'https://gist.githubusercontent.com/aakashns/257f6e6c8719c17d0e498ea287d1a386/raw/7def9ef4234ddf0bc82f855ad67dac8b971852ef/loans3.txt'"
   ]
  },
  {
   "cell_type": "code",
   "execution_count": 19,
   "id": "bbac563e",
   "metadata": {},
   "outputs": [
    {
     "data": {
      "text/plain": [
       "('./data/loans1.txt', <http.client.HTTPMessage at 0x1bd4b6ab290>)"
      ]
     },
     "execution_count": 19,
     "metadata": {},
     "output_type": "execute_result"
    }
   ],
   "source": [
    "urlretrieve(url1, \"./data/loans1.txt\")"
   ]
  },
  {
   "cell_type": "code",
   "execution_count": 15,
   "id": "12d9f2cf",
   "metadata": {},
   "outputs": [
    {
     "data": {
      "text/plain": [
       "('./data/loans2.txt', <http.client.HTTPMessage at 0x1bd4aa32c90>)"
      ]
     },
     "execution_count": 15,
     "metadata": {},
     "output_type": "execute_result"
    }
   ],
   "source": [
    "urlretrieve(url2, \"./data/loans2.txt\")"
   ]
  },
  {
   "cell_type": "code",
   "execution_count": 17,
   "id": "079f7005",
   "metadata": {},
   "outputs": [
    {
     "data": {
      "text/plain": [
       "('./data/loans3.txt', <http.client.HTTPMessage at 0x1bd4b6a9b90>)"
      ]
     },
     "execution_count": 17,
     "metadata": {},
     "output_type": "execute_result"
    }
   ],
   "source": [
    "urlretrieve(url3, \"./data/loans3.txt\")"
   ]
  },
  {
   "cell_type": "code",
   "execution_count": 20,
   "id": "557ec894",
   "metadata": {},
   "outputs": [
    {
     "data": {
      "text/plain": [
       "['loans.txt', 'loans1.txt', 'loans2.txt', 'loans3.txt']"
      ]
     },
     "execution_count": 20,
     "metadata": {},
     "output_type": "execute_result"
    }
   ],
   "source": [
    "os.listdir(\"./data\")"
   ]
  },
  {
   "cell_type": "code",
   "execution_count": 5,
   "id": "d2ddbf14",
   "metadata": {},
   "outputs": [],
   "source": [
    "with open(\"./data/loans1.txt\", 'r') as file:\n",
    "    fileContents = file.readlines()"
   ]
  },
  {
   "cell_type": "code",
   "execution_count": 6,
   "id": "51219e2b",
   "metadata": {},
   "outputs": [
    {
     "data": {
      "text/plain": [
       "['amount,duration,rate,down_payment\\n',\n",
       " '100000,36,0.08,20000\\n',\n",
       " '200000,12,0.1,\\n',\n",
       " '628400,120,0.12,100000\\n',\n",
       " '4637400,240,0.06,\\n',\n",
       " '42900,90,0.07,8900\\n',\n",
       " '916000,16,0.13,\\n',\n",
       " '45230,48,0.08,4300\\n',\n",
       " '991360,99,0.08,\\n',\n",
       " '423000,27,0.09,47200']"
      ]
     },
     "execution_count": 6,
     "metadata": {},
     "output_type": "execute_result"
    }
   ],
   "source": [
    "fileContents"
   ]
  },
  {
   "cell_type": "code",
   "execution_count": 10,
   "id": "a75d4a18",
   "metadata": {},
   "outputs": [],
   "source": [
    "def parse_header(file):\n",
    "    return file[0].strip().split(',')"
   ]
  },
  {
   "cell_type": "code",
   "execution_count": 26,
   "id": "dc8b7945",
   "metadata": {},
   "outputs": [],
   "source": [
    "def parse_line(fileValues):\n",
    "    values = []\n",
    "    for data in fileValues.strip().split(','):\n",
    "        if data == \"\":\n",
    "            values.append(0)\n",
    "        else:\n",
    "            values.append(float(data))\n",
    "    return values"
   ]
  },
  {
   "cell_type": "code",
   "execution_count": 27,
   "id": "05ca6f84",
   "metadata": {},
   "outputs": [],
   "source": [
    "def create_dict(fileValues, headers):\n",
    "    loanDict = {}\n",
    "    for data, header in zip(fileValues, headers):\n",
    "        loanDict[header] = data\n",
    "    return loanDict"
   ]
  },
  {
   "cell_type": "code",
   "execution_count": 28,
   "id": "e047a770",
   "metadata": {},
   "outputs": [],
   "source": [
    "headers = parse_header(fileContents)"
   ]
  },
  {
   "cell_type": "code",
   "execution_count": 29,
   "id": "3ceaad88",
   "metadata": {},
   "outputs": [],
   "source": [
    "values = parse_line(fileContents[1])"
   ]
  },
  {
   "cell_type": "code",
   "execution_count": 33,
   "id": "8c31ebd3",
   "metadata": {},
   "outputs": [],
   "source": [
    "loan_dict = create_dict(values, headers)"
   ]
  },
  {
   "cell_type": "code",
   "execution_count": 34,
   "id": "9ac8418a",
   "metadata": {},
   "outputs": [
    {
     "data": {
      "text/plain": [
       "{'amount': 100000.0, 'duration': 36.0, 'rate': 0.08, 'down_payment': 20000.0}"
      ]
     },
     "execution_count": 34,
     "metadata": {},
     "output_type": "execute_result"
    }
   ],
   "source": [
    "loan_dict"
   ]
  },
  {
   "cell_type": "code",
   "execution_count": 59,
   "id": "9e214d21",
   "metadata": {},
   "outputs": [],
   "source": [
    "def read_csv(file):\n",
    "    values = []\n",
    "    header = file[0].strip().split(',')\n",
    "    for data in file[1:]:\n",
    "        value = parse_line(data)\n",
    "        values.append(create_dict(value, header))\n",
    "    return values"
   ]
  },
  {
   "cell_type": "code",
   "execution_count": null,
   "id": "827d75e7",
   "metadata": {},
   "outputs": [],
   "source": [
    "   "
   ]
  }
 ],
 "metadata": {
  "kernelspec": {
   "display_name": "Python 3 (ipykernel)",
   "language": "python",
   "name": "python3"
  },
  "language_info": {
   "codemirror_mode": {
    "name": "ipython",
    "version": 3
   },
   "file_extension": ".py",
   "mimetype": "text/x-python",
   "name": "python",
   "nbconvert_exporter": "python",
   "pygments_lexer": "ipython3",
   "version": "3.11.5"
  }
 },
 "nbformat": 4,
 "nbformat_minor": 5
}
